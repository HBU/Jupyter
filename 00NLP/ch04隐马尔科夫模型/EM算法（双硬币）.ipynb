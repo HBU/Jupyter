{
 "cells": [
  {
   "cell_type": "markdown",
   "metadata": {},
   "source": [
    "http://www.hankcs.com/ml/em-algorithm-and-its-generalization.html"
   ]
  },
  {
   "cell_type": "markdown",
   "metadata": {},
   "source": [
    "## 建立数据集\n",
    "\n",
    "针对这个问题，首先采集数据，用1表示H（正面），0表示T（反面）："
   ]
  },
  {
   "cell_type": "code",
   "execution_count": 2,
   "metadata": {},
   "outputs": [],
   "source": [
    " import numpy as np\n",
    "# 硬币投掷结果观测序列\n",
    "observations = np.array([[1, 0, 0, 0, 1, 1, 0, 1, 0, 1],\n",
    "                         [1, 1, 1, 1, 0, 1, 1, 1, 1, 1],\n",
    "                         [1, 0, 1, 1, 1, 1, 1, 0, 1, 1],\n",
    "                         [1, 0, 1, 0, 0, 0, 1, 1, 0, 0],\n",
    "                         [0, 1, 1, 1, 0, 1, 1, 1, 0, 1]])"
   ]
  },
  {
   "cell_type": "markdown",
   "metadata": {},
   "source": [
    "## 初始化\n",
    "\n",
    "选定初值，比如"
   ]
  },
  {
   "cell_type": "markdown",
   "metadata": {},
   "source": [
    "## 第一个迭代的E步\n",
    "\n",
    "抛硬币是一个二项分布，可以用scipy中的binom来计算。对于第一行数据，正反面各有5次，所以："
   ]
  },
  {
   "cell_type": "markdown",
   "metadata": {},
   "source": [
    "import scipy.stats as stats\n",
    "coin_A_pmf_observation_1 = stats.binom.pmf(5,10,0.6)\n",
    "print(coin_A_pmf_observation_1)"
   ]
  },
  {
   "cell_type": "markdown",
   "metadata": {},
   "source": [
    "类似地，可以计算第一行数据由B生成的概率："
   ]
  },
  {
   "cell_type": "code",
   "execution_count": 7,
   "metadata": {},
   "outputs": [
    {
     "name": "stdout",
     "output_type": "stream",
     "text": [
      "0.24609375000000025\n"
     ]
    }
   ],
   "source": [
    "coin_B_pmf_observation_1 = stats.binom.pmf(5,10,0.5)\n",
    "print(coin_B_pmf_observation_1)"
   ]
  },
  {
   "cell_type": "markdown",
   "metadata": {},
   "source": [
    "将两个概率正规化，得到数据来自硬币A的概率："
   ]
  },
  {
   "cell_type": "code",
   "execution_count": 8,
   "metadata": {},
   "outputs": [
    {
     "name": "stdout",
     "output_type": "stream",
     "text": [
      "0.45\n"
     ]
    }
   ],
   "source": [
    "normalized_coin_A_pmf_observation_1 = coin_A_pmf_observation_1/(coin_A_pmf_observation_1+coin_B_pmf_observation_1)\n",
    "print (\"%0.2f\" %normalized_coin_A_pmf_observation_1)"
   ]
  },
  {
   "cell_type": "markdown",
   "metadata": {},
   "source": [
    "这个值类似于三硬币模型中的μ，只不过多了一个下标，代表是第几行数据（数据集由5行构成）。\n",
    "\n",
    "同理，可以算出剩下的4行数据的μ。\n",
    "\n",
    "有了μ，就可以估计数据中AB分别产生正反面的次数了。\n",
    "\n",
    "μ代表数据来自硬币A的概率的估计，将它乘上正面的总数，得到正面来自硬币A的总数，同理有反面，同理有B的正反面。"
   ]
  },
  {
   "cell_type": "markdown",
   "metadata": {},
   "source": [
    "# 更新在当前参数下A、B硬币产生的正反面次数\n",
    "counts['A']['H'] += weight_A * num_heads\n",
    "\n",
    "counts['A']['T'] += weight_A * num_tails\n",
    "\n",
    "counts['B']['H'] += weight_B * num_heads\n",
    "\n",
    "counts['B']['T'] += weight_B * num_tails"
   ]
  },
  {
   "cell_type": "markdown",
   "metadata": {},
   "source": [
    "## 第一个迭代的M步\n",
    "\n",
    "当前模型参数下，AB分别产生正反面的次数估计出来了，就可以计算新的模型参数了："
   ]
  },
  {
   "cell_type": "markdown",
   "metadata": {},
   "source": [
    "new_theta_A = counts['A']['H'] / (counts['A']['H'] + counts['A']['T'])\n",
    "\n",
    "new_theta_B = counts['B']['H'] / (counts['B']['H'] + counts['B']['T'])"
   ]
  },
  {
   "cell_type": "markdown",
   "metadata": {},
   "source": [
    "## 与论文是一致的，于是就可以整理一下，给出EM算法单个迭代的代码："
   ]
  },
  {
   "cell_type": "code",
   "execution_count": 14,
   "metadata": {},
   "outputs": [],
   "source": [
    "def em_single(priors, observations):\n",
    "    \"\"\"\n",
    "    EM算法单次迭代\n",
    "    Arguments\n",
    "    ---------\n",
    "    priors : [theta_A, theta_B]\n",
    "    observations : [m X n matrix]\n",
    " \n",
    "    Returns\n",
    "    --------\n",
    "    new_priors: [new_theta_A, new_theta_B]\n",
    "    :param priors:\n",
    "    :param observations:\n",
    "    :return:\n",
    "    \"\"\"\n",
    "    counts = {'A': {'H': 0, 'T': 0}, 'B': {'H': 0, 'T': 0}}\n",
    "    theta_A = priors[0]\n",
    "    theta_B = priors[1]\n",
    "    # E step\n",
    "    for observation in observations:\n",
    "        len_observation = len(observation)\n",
    "        num_heads = observation.sum()\n",
    "        num_tails = len_observation - num_heads\n",
    "        contribution_A = stats.binom.pmf(num_heads, len_observation, theta_A)\n",
    "        contribution_B = stats.binom.pmf(num_heads, len_observation, theta_B)   # 两个二项分布\n",
    "        weight_A = contribution_A / (contribution_A + contribution_B)\n",
    "        weight_B = contribution_B / (contribution_A + contribution_B)\n",
    "        # 更新在当前参数下A、B硬币产生的正反面次数\n",
    "        counts['A']['H'] += weight_A * num_heads\n",
    "        counts['A']['T'] += weight_A * num_tails\n",
    "        counts['B']['H'] += weight_B * num_heads\n",
    "        counts['B']['T'] += weight_B * num_tails\n",
    "    # M step\n",
    "    new_theta_A = counts['A']['H'] / (counts['A']['H'] + counts['A']['T'])\n",
    "    new_theta_B = counts['B']['H'] / (counts['B']['H'] + counts['B']['T'])\n",
    "    return [new_theta_A, new_theta_B]"
   ]
  },
  {
   "cell_type": "markdown",
   "metadata": {},
   "source": [
    "## EM算法主循环\n",
    "\n",
    "给定循环的两个终止条件：模型参数变化小于阈值；循环达到最大次数，就可以写出EM算法的主循环了："
   ]
  },
  {
   "cell_type": "code",
   "execution_count": 15,
   "metadata": {},
   "outputs": [],
   "source": [
    "def em(observations, prior, tol=1e-6, iterations=10000):\n",
    "    \"\"\"\n",
    "    EM算法\n",
    "    :param observations: 观测数据\n",
    "    :param prior: 模型初值\n",
    "    :param tol: 迭代结束阈值\n",
    "    :param iterations: 最大迭代次数\n",
    "    :return: 局部最优的模型参数\n",
    "    \"\"\"\n",
    "    import math\n",
    "    iteration = 0\n",
    "    while iteration < iterations:\n",
    "        new_prior = em_single(prior, observations)\n",
    "        delta_change = np.abs(prior[0] - new_prior[0])\n",
    "        if delta_change < tol:\n",
    "            break\n",
    "        else:\n",
    "            prior = new_prior\n",
    "            iteration += 1\n",
    "    return [new_prior, iteration]"
   ]
  },
  {
   "cell_type": "markdown",
   "metadata": {},
   "source": [
    "## 调用\n",
    "\n",
    "给定数据集和初值，就可以调用EM算法了："
   ]
  },
  {
   "cell_type": "code",
   "execution_count": 17,
   "metadata": {},
   "outputs": [
    {
     "name": "stdout",
     "output_type": "stream",
     "text": [
      "[[0.7967887593831098, 0.5195839356752803], 14]\n"
     ]
    }
   ],
   "source": [
    "print (em(observations, [0.6, 0.5]))"
   ]
  },
  {
   "cell_type": "markdown",
   "metadata": {},
   "source": [
    "与论文中的结果是一致的（我们多迭代了4次，毕竟我们不清楚论文作者设置的终止条件）："
   ]
  },
  {
   "cell_type": "markdown",
   "metadata": {},
   "source": [
    "我们可以改变初值，试验初值对EM算法的影响。"
   ]
  },
  {
   "cell_type": "code",
   "execution_count": 18,
   "metadata": {},
   "outputs": [
    {
     "data": {
      "text/plain": [
       "[[0.5195834506301285, 0.7967889544439393], 15]"
      ]
     },
     "execution_count": 18,
     "metadata": {},
     "output_type": "execute_result"
    }
   ],
   "source": [
    "em(observations, [0.5,0.6])"
   ]
  },
  {
   "cell_type": "markdown",
   "metadata": {},
   "source": [
    "看来EM算法还是很健壮的\n",
    "\n",
    "如果把初值设为相等会怎样？\n",
    "\n",
    "调用"
   ]
  },
  {
   "cell_type": "code",
   "execution_count": 19,
   "metadata": {},
   "outputs": [
    {
     "data": {
      "text/plain": [
       "[[0.66, 0.66], 1]"
      ]
     },
     "execution_count": 19,
     "metadata": {},
     "output_type": "execute_result"
    }
   ],
   "source": [
    "em(observations, [0.3,0.3])"
   ]
  },
  {
   "cell_type": "markdown",
   "metadata": {},
   "source": [
    "这显然是不是个好主意，再试试很极端的情况："
   ]
  },
  {
   "cell_type": "code",
   "execution_count": 20,
   "metadata": {},
   "outputs": [
    {
     "data": {
      "text/plain": [
       "[[0.7967885050458194, 0.5195823568654446], 13]"
      ]
     },
     "execution_count": 20,
     "metadata": {},
     "output_type": "execute_result"
    }
   ],
   "source": [
    "em(observations, [0.9999,0.00000001])"
   ]
  },
  {
   "cell_type": "markdown",
   "metadata": {},
   "source": [
    "可见EM算法仍然很聪明。"
   ]
  },
  {
   "cell_type": "code",
   "execution_count": null,
   "metadata": {},
   "outputs": [],
   "source": []
  }
 ],
 "metadata": {
  "kernelspec": {
   "display_name": "Python 3",
   "language": "python",
   "name": "python3"
  },
  "language_info": {
   "codemirror_mode": {
    "name": "ipython",
    "version": 3
   },
   "file_extension": ".py",
   "mimetype": "text/x-python",
   "name": "python",
   "nbconvert_exporter": "python",
   "pygments_lexer": "ipython3",
   "version": "3.7.8"
  }
 },
 "nbformat": 4,
 "nbformat_minor": 4
}
