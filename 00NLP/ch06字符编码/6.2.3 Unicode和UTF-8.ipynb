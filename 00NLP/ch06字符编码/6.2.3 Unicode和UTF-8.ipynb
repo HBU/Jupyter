{
 "cells": [
  {
   "cell_type": "code",
   "execution_count": 1,
   "metadata": {},
   "outputs": [],
   "source": [
    "import chardet"
   ]
  },
  {
   "cell_type": "markdown",
   "metadata": {},
   "source": [
    "# Unicode 转 汉字、UTF-8"
   ]
  },
  {
   "cell_type": "code",
   "execution_count": 2,
   "metadata": {
    "scrolled": false
   },
   "outputs": [
    {
     "name": "stdout",
     "output_type": "stream",
     "text": [
      "{'encoding': 'Windows-1252', 'confidence': 0.73, 'language': ''}\n",
      "汉\n",
      "b'\\xe6\\xb1\\x89'\n"
     ]
    }
   ],
   "source": [
    "s = '\\u6c49'\n",
    "print(chardet.detect(str.encode(s)))\n",
    "print(s)\n",
    "print(s.encode('utf-8'))"
   ]
  },
  {
   "cell_type": "code",
   "execution_count": 38,
   "metadata": {},
   "outputs": [
    {
     "name": "stdout",
     "output_type": "stream",
     "text": [
      "{'encoding': 'Windows-1252', 'confidence': 0.73, 'language': ''}\n",
      "⃃0\n",
      "b'\\xe2\\x83\\x830'\n"
     ]
    }
   ],
   "source": [
    "ss = '\\u20C30' # 中日韩统一表意文字扩展 会 输出乱码， UTF-8 也不对\n",
    "print(chardet.detect(str.encode(ss)))\n",
    "print(ss)\n",
    "print(ss.encode())"
   ]
  },
  {
   "cell_type": "markdown",
   "metadata": {},
   "source": [
    "# 汉字 转 Unicode"
   ]
  },
  {
   "cell_type": "code",
   "execution_count": 10,
   "metadata": {},
   "outputs": [
    {
     "name": "stdout",
     "output_type": "stream",
     "text": [
      "\\u6C49\n"
     ]
    }
   ],
   "source": [
    "def to_unicode(string):\n",
    "    ret = ''\n",
    "    for v in string:\n",
    "        ret = ret + hex(ord(v)).upper().replace('0X', '\\\\u')\n",
    "    return ret\n",
    "\n",
    "print(to_unicode(\"汉\"))"
   ]
  },
  {
   "cell_type": "code",
   "execution_count": 11,
   "metadata": {},
   "outputs": [
    {
     "name": "stdout",
     "output_type": "stream",
     "text": [
      "河\n",
      "\\u6CB3\n",
      "27827\n",
      "0b110110010110011\n",
      "b'\\xe6\\xb2\\xb3'\n",
      "b'\\xba\\xd3'\n"
     ]
    }
   ],
   "source": [
    "s = '河'\n",
    "print(s)\n",
    "print(to_unicode(s))\n",
    "print(ord(s))\n",
    "print(bin(ord(s)))\n",
    "print(s.encode('utf-8'))\n",
    "print(s.encode('gb2312'))"
   ]
  },
  {
   "cell_type": "code",
   "execution_count": 5,
   "metadata": {},
   "outputs": [
    {
     "name": "stdout",
     "output_type": "stream",
     "text": [
      "北\n",
      "21271\n",
      "0b101001100010111\n",
      "b'\\xe5\\x8c\\x97'\n",
      "b'\\xb1\\xb1'\n"
     ]
    }
   ],
   "source": [
    "s = '北'\n",
    "print(s)\n",
    "print(ord(s))\n",
    "print(bin(ord(s)))\n",
    "print(s.encode('utf-8'))\n",
    "print(s.encode('gb2312'))"
   ]
  },
  {
   "cell_type": "code",
   "execution_count": 6,
   "metadata": {},
   "outputs": [
    {
     "name": "stdout",
     "output_type": "stream",
     "text": [
      "大\n",
      "22823\n",
      "0b101100100100111\n",
      "b'\\xe5\\xa4\\xa7'\n",
      "b'\\xb4\\xf3'\n"
     ]
    }
   ],
   "source": [
    "s = '大'\n",
    "print(s)\n",
    "print(ord(s))\n",
    "print(bin(ord(s)))\n",
    "print(s.encode('utf-8'))\n",
    "print(s.encode('gb2312'))"
   ]
  },
  {
   "cell_type": "code",
   "execution_count": null,
   "metadata": {},
   "outputs": [],
   "source": []
  },
  {
   "cell_type": "code",
   "execution_count": 7,
   "metadata": {
    "scrolled": true
   },
   "outputs": [
    {
     "name": "stdout",
     "output_type": "stream",
     "text": [
      "学\n",
      "23398\n",
      "0b101101101100110\n",
      "b'\\xe5\\xad\\xa6'\n",
      "b'\\xd1\\xa7'\n"
     ]
    }
   ],
   "source": [
    "s = '学'\n",
    "print(s)\n",
    "print(ord(s))\n",
    "print(bin(ord(s)))\n",
    "print(s.encode('utf-8'))\n",
    "print(s.encode('gb2312'))"
   ]
  }
 ],
 "metadata": {
  "kernelspec": {
   "display_name": "Python 3",
   "language": "python",
   "name": "python3"
  },
  "language_info": {
   "codemirror_mode": {
    "name": "ipython",
    "version": 3
   },
   "file_extension": ".py",
   "mimetype": "text/x-python",
   "name": "python",
   "nbconvert_exporter": "python",
   "pygments_lexer": "ipython3",
   "version": "3.7.8"
  }
 },
 "nbformat": 4,
 "nbformat_minor": 4
}
