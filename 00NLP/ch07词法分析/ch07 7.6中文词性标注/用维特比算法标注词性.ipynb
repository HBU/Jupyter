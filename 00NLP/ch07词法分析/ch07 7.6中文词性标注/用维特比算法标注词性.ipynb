{
 "cells": [
  {
   "cell_type": "markdown",
   "metadata": {},
   "source": [
    "### https://github.com/junman/POS-tagging"
   ]
  },
  {
   "cell_type": "code",
   "execution_count": 1,
   "metadata": {},
   "outputs": [],
   "source": [
    "def viterbi(obs, states, start_p, trans_p, emit_p):\n",
    "    \"\"\"\n",
    "    :param obs: 可见序列\n",
    "    :param states: 隐状态\n",
    "    :param start_p: 开始概率\n",
    "    :param trans_p: 转换概率\n",
    "    :param emit_p: 发射概率\n",
    "    :return: 序列+概率\n",
    "    \"\"\"\n",
    "    path = {}\n",
    "    V = [{}]  # 记录第几次的概率\n",
    "    for state in states:\n",
    "        V[0][state] = start_p[state] * emit_p[state].get(obs[0], 0)\n",
    "        path[state] = [state]\n",
    "    for n in range(1, len(obs)):\n",
    "        V.append({})\n",
    "        newpath = {}\n",
    "        for k in states:\n",
    "            pp,pat=max([(V[n - 1][j] * trans_p[j].get(k,0) * emit_p[k].get(obs[n], 0) ,j )for j in states])\n",
    "            V[n][k] = pp\n",
    "            newpath[k] = path[pat] + [k]\n",
    "            # path[k] = path[pat] + [k]#不能提起变，，后面迭代好会用到！\n",
    "        path=newpath\n",
    "    (prob, state) = max([(V[len(obs) - 1][y], y) for y in states])\n",
    "    return prob, path[state]"
   ]
  },
  {
   "cell_type": "code",
   "execution_count": 2,
   "metadata": {},
   "outputs": [
    {
     "name": "stdout",
     "output_type": "stream",
     "text": [
      "['你们', '站立', '在']\n",
      "['r', 'v', 'p']\n",
      "---------------------------------------------------\n",
      "['我', '站', '在', '北京', '天安门', '上', '大声', '歌唱']\n",
      "['r', 'v', 'p', 'ns', 'ns', 'f', 'd', 'v']\n",
      "---------------------------------------------------\n",
      "['请', '大家', '坐下', '喝茶']\n",
      "['v', 'r', 'v', 'v']\n",
      "---------------------------------------------------\n",
      "['你', '的', '名字', '是', '什么']\n",
      "['r', 'u', 'n', 'v', 'r']\n",
      "---------------------------------------------------\n",
      "['今天', '天气', '特别', '好']\n",
      "['t', 'n', 'd', 'a']\n",
      "---------------------------------------------------\n"
     ]
    }
   ],
   "source": [
    "state_list = ['Ag', 'a', 'ad', 'an', 'Bg', 'b', 'c', 'Dg',\n",
    "\t\t\t  'd', 'e', 'f', 'h', 'i', 'j', 'k', 'l',\n",
    "\t\t\t  'Mg', 'm', 'Ng', 'n', 'nr', 'ns', 'nt', 'nx',\n",
    "\t\t\t  'nz', 'o', 'p', 'q', 'Rg', 'r', 's','na',\n",
    "\t\t\t  'Tg', 't','u', 'Vg', 'v', 'vd', 'vn','vvn',\n",
    "\t\t\t  'w', 'Yg', 'y', 'z']\n",
    "\n",
    "'''\n",
    "26个基本词类标记\n",
    "（名词n、时间词t、处所词s、方位词f、数词m、量词q、区别词b、代词r、动词v、\n",
    "形容词a、状态词z、副词d、介词p、连词c、助词u、语气词y、叹词e、拟声词o、\n",
    "成语i、习惯用语l、简称j、前接成分h、后接成分k、语素g、非语素字x、标点符号w）\n",
    "'''\n",
    "# def viterbi(obs,states,start_p,trans_p,emit_p):\n",
    "#     \"\"\"\n",
    "#     :param obs: 可见序列\n",
    "#     :param states: 隐状态\n",
    "#     :param start_p: 开始概率\n",
    "#     :param trans_p: 转换概率\n",
    "#     :param emit_p: 发射概率\n",
    "#     :return: 序列+概率\n",
    "#     \"\"\"\n",
    "file0=open('start.txt','r')\n",
    "start_c=eval(file0.read())\n",
    "file1=open('emit.txt','r',encoding='utf8')\n",
    "emit_c=eval(file1.read())\n",
    "file2=open('tran.txt','r',encoding='utf8')\n",
    "trans_c=eval(file2.read())\n",
    "\n",
    "test_strs=[u\"你们 站立 在\",\n",
    "           u\"我 站 在 北京 天安门 上 大声 歌唱\",\n",
    "           u\"请 大家 坐下 喝茶\",\n",
    "           u\"你 的 名字 是 什么\",\n",
    "           u\"今天 天气 特别 好\"]\n",
    "\n",
    "for li in range(0,len(test_strs)):\n",
    "    test_strs[li]=test_strs[li].split()\n",
    "for li in test_strs:\n",
    "    p,out_list=viterbi(li,state_list,start_c,trans_c,emit_c)\n",
    "    print(li)\n",
    "    print(out_list)\n",
    "    print('---------------------------------------------------')"
   ]
  },
  {
   "cell_type": "code",
   "execution_count": null,
   "metadata": {},
   "outputs": [],
   "source": []
  }
 ],
 "metadata": {
  "kernelspec": {
   "display_name": "Python 3",
   "language": "python",
   "name": "python3"
  },
  "language_info": {
   "codemirror_mode": {
    "name": "ipython",
    "version": 3
   },
   "file_extension": ".py",
   "mimetype": "text/x-python",
   "name": "python",
   "nbconvert_exporter": "python",
   "pygments_lexer": "ipython3",
   "version": "3.8.3"
  }
 },
 "nbformat": 4,
 "nbformat_minor": 4
}
