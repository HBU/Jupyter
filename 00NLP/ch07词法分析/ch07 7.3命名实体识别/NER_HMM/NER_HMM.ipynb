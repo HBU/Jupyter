{
 "cells": [
  {
   "cell_type": "markdown",
   "metadata": {},
   "source": [
    "https://github.com/Moon-xm/HMM_NER"
   ]
  },
  {
   "cell_type": "markdown",
   "metadata": {},
   "source": [
    "#  人名PER, 地名LOC, 机构名ORG, 其他O"
   ]
  },
  {
   "cell_type": "code",
   "execution_count": 3,
   "metadata": {},
   "outputs": [],
   "source": [
    "import numpy as np\n",
    "from tqdm import tqdm"
   ]
  },
  {
   "cell_type": "code",
   "execution_count": 4,
   "metadata": {},
   "outputs": [],
   "source": [
    "class HMM_model:\n",
    "    def __init__(self):\n",
    "        self.n_tag = 7  # 表示所有标签个数\n",
    "        self.n_char = 65535  # 所有字符的Unicode编码个数\n",
    "        self.epsilon = 1e-100  # 无穷小量\n",
    "        self.tag2idx = {'B-PER': 0,\n",
    "                        'I-PER': 1,\n",
    "                        'B-LOC': 2,\n",
    "                        'I-LOC': 3,\n",
    "                        'B-ORG': 4,\n",
    "                        'I-ORG': 5,\n",
    "                        'O': 6}\n",
    "        self.idx2tag = dict(zip(self.tag2idx.values(), self.tag2idx.keys()))\n",
    "        self.A = np.zeros((self.n_tag, self.n_tag))  # 转移概率矩阵,shape:7*7\n",
    "        self.B = np.zeros((self.n_tag, self.n_char))  # 发射概率矩阵,shape:7*字的个数\n",
    "        self.pi = np.zeros(self.n_tag)  # 初始隐状态概率,shape：4\n",
    "\n",
    "    def train(self, corpus_path):\n",
    "        \"\"\"函数说明： 训练HMM模型, 得到模型参数pi,A,B\"\"\"\n",
    "        with open(corpus_path, mode='r', encoding='utf-8') as fr:\n",
    "            lines = fr.readlines()\n",
    "        print('开始训练数据：')\n",
    "        for i in tqdm(range(len(lines))):\n",
    "            if len(lines[i]) == 1:\n",
    "                continue\n",
    "            else:\n",
    "                cur_char, cur_tag = lines[i].split()\n",
    "                self.B[self.tag2idx[cur_tag]][ord(cur_char)] += 1\n",
    "                if len(lines[i - 1]) == 1:\n",
    "                    self.pi[self.tag2idx[cur_tag]] += 1\n",
    "                    continue\n",
    "                pre_char, pre_tag = lines[i - 1].split()\n",
    "                self.A[self.tag2idx[pre_tag]][self.tag2idx[cur_tag]] += 1\n",
    "        self.pi[self.pi == 0] = self.epsilon  # 防止数据下溢,对数据进行对数归一化\n",
    "        self.pi = np.log(self.pi) - np.log(np.sum(self.pi))\n",
    "        self.A[self.A == 0] = self.epsilon\n",
    "        self.A = np.log(self.A) - np.log(np.sum(self.A, axis=1, keepdims=True))\n",
    "        self.B[self.B == 0] = self.epsilon\n",
    "        self.B = np.log(self.B) - np.log(np.sum(self.B, axis=1, keepdims=True))\n",
    "        np.savetxt('pi', self.pi)\n",
    "        np.savetxt('A', self.A)\n",
    "        np.savetxt('B', self.B)\n",
    "        print('训练完毕！')\n",
    "\n",
    "    def viterbi(self, Obs):\n",
    "        \"\"\"\n",
    "        函数说明： 使用viterbi算法进行解码\n",
    "        Parameter：Obs - 要解码的文本string\n",
    "        Return:path - 最可能的隐状态路径\n",
    "\n",
    "        \"\"\"\n",
    "        T = len(Obs)\n",
    "        delta = np.zeros((T, self.n_tag))  # shape: 观测文本数量*7\n",
    "        psi = np.zeros((T, self.n_tag))  # shape: 观测文本数量*7\n",
    "        delta[0] = self.pi[:] + self.B[:, ord(Obs[0])]  # 初始化\n",
    "        for i in range(1, T):\n",
    "            temp = delta[i - 1].reshape(self.n_tag, -1) + self.A  # 这里运用到了矩阵的广播算法\n",
    "            delta[i] = np.max(temp, axis=0)\n",
    "            delta[i] = delta[i, :] + self.B[:, ord(Obs[i])]\n",
    "            psi[i] = np.argmax(temp, axis=0)\n",
    "        path = np.zeros(T)\n",
    "        path[T - 1] = np.argmax(delta[T - 1])\n",
    "        for i in range(T - 2, -1, -1):  # 回溯\n",
    "            path[i] = int(psi[i + 1][int(path[i + 1])])\n",
    "        return path\n",
    "\n",
    "    def predict(self, Obs):\n",
    "        T = len(Obs)\n",
    "        path = self.viterbi(Obs)\n",
    "        for i in range(T):\n",
    "            print(Obs[i]+self.idx2tag[path[i]]+'_|', end='')\n"
   ]
  },
  {
   "cell_type": "code",
   "execution_count": 9,
   "metadata": {},
   "outputs": [
    {
     "name": "stderr",
     "output_type": "stream",
     "text": [
      "100%|████████████████████████████████████████████████████████████████████████| 66769/66769 [00:00<00:00, 382563.49it/s]"
     ]
    },
    {
     "name": "stdout",
     "output_type": "stream",
     "text": [
      "开始训练数据：\n"
     ]
    },
    {
     "name": "stderr",
     "output_type": "stream",
     "text": [
      "\n"
     ]
    },
    {
     "name": "stdout",
     "output_type": "stream",
     "text": [
      "训练完毕！\n"
     ]
    }
   ],
   "source": [
    "model = HMM_model()\n",
    "model.train('BIO_train.txt')"
   ]
  },
  {
   "cell_type": "code",
   "execution_count": 13,
   "metadata": {},
   "outputs": [
    {
     "name": "stdout",
     "output_type": "stream",
     "text": [
      "林B-PER_|徽I-PER_|因O_|什O_|么O_|理O_|由O_|拒O_|绝O_|了O_|徐O_|志O_|摩B-LOC_|而O_|选O_|择O_|梁B-PER_|思I-PER_|成I-PER_|为O_|终O_|身O_|伴O_|侣O_|？O_|"
     ]
    }
   ],
   "source": [
    "s = '林徽因什么理由拒绝了徐志摩而选择梁思成为终身伴侣？'        \n",
    "model.predict(s)"
   ]
  },
  {
   "cell_type": "code",
   "execution_count": 12,
   "metadata": {},
   "outputs": [
    {
     "name": "stdout",
     "output_type": "stream",
     "text": [
      "谢O_|娜O_|为O_|李O_|浩O_|菲O_|澄B-PER_|清I-PER_|网O_|络O_|谣O_|言O_|，O_|之O_|后O_|她O_|的O_|两O_|个O_|行O_|为O_|给O_|自O_|己O_|加O_|分O_|"
     ]
    }
   ],
   "source": [
    "model.predict('谢娜为李浩菲澄清网络谣言，之后她的两个行为给自己加分')"
   ]
  },
  {
   "cell_type": "code",
   "execution_count": 10,
   "metadata": {
    "scrolled": true
   },
   "outputs": [
    {
     "name": "stdout",
     "output_type": "stream",
     "text": [
      "张O_|三O_|是O_|河B-LOC_|北I-LOC_|省I-LOC_|保B-LOC_|定I-LOC_|市I-LOC_|河I-LOC_|北I-LOC_|大I-LOC_|学O_|网O_|络O_|空O_|间O_|安O_|全O_|与O_|计O_|算O_|机O_|学O_|院O_|的O_|一O_|名O_|学O_|生O_|"
     ]
    }
   ],
   "source": [
    "model.predict(\"张三是河北省保定市河北大学网络空间安全与计算机学院的一名学生\")"
   ]
  },
  {
   "cell_type": "code",
   "execution_count": 11,
   "metadata": {},
   "outputs": [
    {
     "name": "stdout",
     "output_type": "stream",
     "text": [
      "张B-PER_|明I-PER_|是O_|河B-ORG_|北I-ORG_|大I-ORG_|学I-ORG_|的O_|一O_|名O_|学O_|生O_|"
     ]
    }
   ],
   "source": [
    "model.predict(\"张明是河北大学的一名学生\")"
   ]
  },
  {
   "cell_type": "code",
   "execution_count": null,
   "metadata": {},
   "outputs": [],
   "source": []
  }
 ],
 "metadata": {
  "kernelspec": {
   "display_name": "Python 3",
   "language": "python",
   "name": "python3"
  },
  "language_info": {
   "codemirror_mode": {
    "name": "ipython",
    "version": 3
   },
   "file_extension": ".py",
   "mimetype": "text/x-python",
   "name": "python",
   "nbconvert_exporter": "python",
   "pygments_lexer": "ipython3",
   "version": "3.7.8"
  }
 },
 "nbformat": 4,
 "nbformat_minor": 4
}
