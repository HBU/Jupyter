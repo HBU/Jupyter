{
 "cells": [
  {
   "cell_type": "markdown",
   "metadata": {},
   "source": [
    "https://github.com/fastnlp/fastHan/"
   ]
  },
  {
   "cell_type": "markdown",
   "metadata": {},
   "source": [
    "# fastHan"
   ]
  },
  {
   "cell_type": "markdown",
   "metadata": {},
   "source": [
    "fastHan是基于fastNLP与pytorch实现的中文自然语言处理工具，像spacy一样调用方便。\n",
    "\n",
    "fastNLP 邱锡鹏 复旦大学 计算机科学技术学院教授"
   ]
  },
  {
   "cell_type": "markdown",
   "metadata": {},
   "source": [
    "target参数可在'Parsing'、'CWS'、'POS'、'NER'四个选项中取值，\n",
    "\n",
    "模型将分别进行依存分析、分词、词性标注、命名实体识别任务,模型默认进行CWS任务。\n",
    "\n",
    "其中词性标注任务包含了分词的信息，\n",
    "\n",
    "而依存分析任务又包含了词性标注任务的信息。\n",
    "\n",
    "命名实体识别任务相较其他任务独立。"
   ]
  },
  {
   "cell_type": "code",
   "execution_count": 11,
   "metadata": {},
   "outputs": [
    {
     "name": "stdout",
     "output_type": "stream",
     "text": [
      "loading vocabulary file C:\\Users\\Administrator\\.fastNLP\\fasthan\\fasthan_base\\vocab.txt\n",
      "Load pre-trained BERT parameters from file C:\\Users\\Administrator\\.fastNLP\\fasthan\\fasthan_base\\model.bin.\n"
     ]
    }
   ],
   "source": [
    "from fastHan import FastHan\n",
    "model=FastHan()"
   ]
  },
  {
   "cell_type": "code",
   "execution_count": 12,
   "metadata": {
    "scrolled": true
   },
   "outputs": [
    {
     "name": "stdout",
     "output_type": "stream",
     "text": [
      "[[['郭靖', 2, 'top', 'NR'], ['是', 0, 'root', 'VC'], ['金庸', 4, 'nn', 'NR'], ['笔', 5, 'lobj', 'NN'], ['下', 10, 'assmod', 'LC'], ['的', 5, 'assm', 'DEG'], ['一', 8, 'nummod', 'CD'], ['名', 10, 'clf', 'M'], ['男', 10, 'amod', 'JJ'], ['主', 2, 'attr', 'NN'], ['。', 2, 'punct', 'PU']]]\n"
     ]
    }
   ],
   "source": [
    "sentence=\"郭靖是金庸笔下的一名男主。\"\n",
    "answer=model(sentence,target=\"Parsing\")\n",
    "print(answer)"
   ]
  },
  {
   "cell_type": "code",
   "execution_count": 4,
   "metadata": {},
   "outputs": [
    {
     "name": "stdout",
     "output_type": "stream",
     "text": [
      "[[['郭靖', 'NR'], ['金庸', 'NR']]]\n"
     ]
    }
   ],
   "source": [
    "answer=model(sentence,target=\"NER\")\n",
    "print(answer)"
   ]
  },
  {
   "cell_type": "code",
   "execution_count": 5,
   "metadata": {
    "scrolled": true
   },
   "outputs": [
    {
     "name": "stdout",
     "output_type": "stream",
     "text": [
      "[[['南京市', 'NS'], ['长江大桥', 'NS']]]\n"
     ]
    }
   ],
   "source": [
    "answer=model(\"南京市长江大桥\",target=\"NER\")\n",
    "print(answer)"
   ]
  },
  {
   "cell_type": "code",
   "execution_count": 6,
   "metadata": {},
   "outputs": [
    {
     "name": "stdout",
     "output_type": "stream",
     "text": [
      "[[['南京市', 'NS'], ['王大桥', 'NS']]]\n"
     ]
    }
   ],
   "source": [
    "answer=model(\"南京市长王大桥\",target=\"NER\")\n",
    "print(answer)"
   ]
  },
  {
   "cell_type": "code",
   "execution_count": 7,
   "metadata": {},
   "outputs": [],
   "source": [
    "strHbu = '河北大学（Hebei University）位于国家历史文化名城保定市，是列入教育部直属高校序列并与国家国防科技工业局和河北省人民政府“部局省合建”的重点综合性大学，中西部“一省一校”国家重点建设大学联盟成员，河北省重点支持的国家一流大学建设一层次高校；入选国家中西部高校综合实力提升工程、中西部高校基础能力建设工程、卓越工程师教育培养计划、首批卓越法律人才教育培养计划、国家级大学生创新创业训练计划、全国首批深化创新创业教育改革示范高校，是河北省首家中国政府奖学金来华留学生接收院校、国家大学生文化素质教育基地、全国高校首个延安精神教育基地、首批民政部社会工作专业人才培训基地。拥有研究生院和推荐免试研究生资格。'"
   ]
  },
  {
   "cell_type": "code",
   "execution_count": 8,
   "metadata": {},
   "outputs": [
    {
     "name": "stdout",
     "output_type": "stream",
     "text": [
      "[[['河北大学', 'NT'], ['Hebei University', 'NS'], ['保定市', 'NS'], ['教育部', 'NT'], ['国家国防科技工业局', 'NT'], ['河北省', 'NS'], ['河北省', 'NS'], ['河北省', 'NS'], ['中国', 'NS'], ('华', 'NS'), ['延安', 'NS'], ['研究生院', 'NT']]]\n"
     ]
    }
   ],
   "source": [
    "answer=model(strHbu,target=\"NER\")\n",
    "print(answer)"
   ]
  },
  {
   "cell_type": "code",
   "execution_count": 9,
   "metadata": {},
   "outputs": [
    {
     "name": "stdout",
     "output_type": "stream",
     "text": [
      "[[]]\n"
     ]
    }
   ],
   "source": [
    "strTime = '我要从26号下午4点住到11月2号'\n",
    "answer=model(strTime,target=\"NER\")\n",
    "print(answer)"
   ]
  },
  {
   "cell_type": "code",
   "execution_count": 10,
   "metadata": {},
   "outputs": [
    {
     "name": "stdout",
     "output_type": "stream",
     "text": [
      "0\n",
      "我 PN 2 nsubj\n",
      "爱 VV 0 root\n",
      "踢 VV 2 ccomp\n",
      "足球 NN 3 dobj\n",
      "。 PU 2 punct\n",
      "1\n",
      "林丹 NR 2 top\n",
      "是 VC 0 root\n",
      "冠军 NN 2 attr\n"
     ]
    }
   ],
   "source": [
    "sentence=[\"我爱踢足球。\",\"林丹是冠军\"]\n",
    "answer=model(sentence,'Parsing')\n",
    "for i,sentence in enumerate(answer):\n",
    "    print(i)\n",
    "    for token in sentence:\n",
    "        print(token,token.pos,token.head,token.head_label)"
   ]
  },
  {
   "cell_type": "code",
   "execution_count": null,
   "metadata": {},
   "outputs": [],
   "source": []
  }
 ],
 "metadata": {
  "kernelspec": {
   "display_name": "Python 3",
   "language": "python",
   "name": "python3"
  },
  "language_info": {
   "codemirror_mode": {
    "name": "ipython",
    "version": 3
   },
   "file_extension": ".py",
   "mimetype": "text/x-python",
   "name": "python",
   "nbconvert_exporter": "python",
   "pygments_lexer": "ipython3",
   "version": "3.8.3"
  }
 },
 "nbformat": 4,
 "nbformat_minor": 4
}
