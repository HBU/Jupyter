{
 "cells": [
  {
   "cell_type": "code",
   "execution_count": 7,
   "metadata": {},
   "outputs": [
    {
     "name": "stdout",
     "output_type": "stream",
     "text": [
      "work\n",
      "work\n",
      "buse\n"
     ]
    }
   ],
   "source": [
    "from nltk.stem import PorterStemmer # 波特词干算法\n",
    "\n",
    "stemmer = PorterStemmer()\n",
    "print(stemmer.stem('working'))\n",
    "print(stemmer.stem('worked'))\n",
    "print(stemmer.stem('buses'))"
   ]
  },
  {
   "cell_type": "code",
   "execution_count": 8,
   "metadata": {},
   "outputs": [
    {
     "name": "stdout",
     "output_type": "stream",
     "text": [
      "working\n",
      "work\n",
      "worked\n",
      "work\n",
      "bus\n"
     ]
    }
   ],
   "source": [
    "from nltk.stem import WordNetLemmatizer # 单词变体还原\n",
    "\n",
    "lemmatizer = WordNetLemmatizer()\n",
    "\n",
    "print(lemmatizer.lemmatize('working'))\n",
    "print(lemmatizer.lemmatize('working', pos=\"v\"))\n",
    "print(lemmatizer.lemmatize('worked'))\n",
    "print(lemmatizer.lemmatize('worked', pos=\"v\"))\n",
    "print(lemmatizer.lemmatize('buses'))"
   ]
  },
  {
   "cell_type": "code",
   "execution_count": null,
   "metadata": {},
   "outputs": [],
   "source": []
  }
 ],
 "metadata": {
  "kernelspec": {
   "display_name": "Python 3",
   "language": "python",
   "name": "python3"
  },
  "language_info": {
   "codemirror_mode": {
    "name": "ipython",
    "version": 3
   },
   "file_extension": ".py",
   "mimetype": "text/x-python",
   "name": "python",
   "nbconvert_exporter": "python",
   "pygments_lexer": "ipython3",
   "version": "3.7.8"
  }
 },
 "nbformat": 4,
 "nbformat_minor": 4
}
