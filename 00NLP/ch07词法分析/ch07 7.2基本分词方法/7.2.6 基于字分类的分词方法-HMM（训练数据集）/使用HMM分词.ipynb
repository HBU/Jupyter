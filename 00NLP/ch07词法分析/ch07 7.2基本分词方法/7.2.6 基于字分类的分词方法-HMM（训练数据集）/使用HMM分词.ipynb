{
 "cells": [
  {
   "cell_type": "code",
   "execution_count": 1,
   "metadata": {},
   "outputs": [
    {
     "data": {
      "text/plain": [
       "<hmm.HMM at 0x17720d5f2c8>"
      ]
     },
     "execution_count": 1,
     "metadata": {},
     "output_type": "execute_result"
    }
   ],
   "source": [
    "# icwb2-data 数据集是由北京大学、香港城市大学、台湾 CKIP, Academia Sinica 及中国微软研究所联合发布的数据集，\n",
    "# 用以进行中文分词模型的训练。\n",
    "# 其中 AS 和 CityU 为繁体中文数据集，PK 和 MSR 为简体中文数据集。\n",
    "from hmm import HMM\n",
    "hmm_test = HMM()\n",
    "hmm_test.train('msr_training.utf8.txt')"
   ]
  },
  {
   "cell_type": "code",
   "execution_count": 2,
   "metadata": {},
   "outputs": [
    {
     "name": "stdout",
     "output_type": "stream",
     "text": [
      "我们在野生动物园玩\n",
      "['我们', '在', '野', '生动', '物园', '玩']\n"
     ]
    }
   ],
   "source": [
    "text='我们在野生动物园玩'\n",
    "res=hmm_test.cut(text)\n",
    "print(text)\n",
    "print(str(list(res)))"
   ]
  },
  {
   "cell_type": "code",
   "execution_count": 8,
   "metadata": {},
   "outputs": [
    {
     "name": "stdout",
     "output_type": "stream",
     "text": [
      "他是研究生物化学的\n",
      "['他是', '研究', '生物', '化学', '的']\n"
     ]
    }
   ],
   "source": [
    "text='他是研究生物化学的'\n",
    "res=hmm_test.cut(text)\n",
    "print(text)\n",
    "print(str(list(res)))"
   ]
  },
  {
   "cell_type": "code",
   "execution_count": 9,
   "metadata": {},
   "outputs": [
    {
     "name": "stdout",
     "output_type": "stream",
     "text": [
      "商品和服务\n",
      "['商品', '和', '服务']\n"
     ]
    }
   ],
   "source": [
    "text='商品和服务'\n",
    "res=hmm_test.cut(text)\n",
    "print(text)\n",
    "print(str(list(res)))"
   ]
  },
  {
   "cell_type": "code",
   "execution_count": 10,
   "metadata": {},
   "outputs": [
    {
     "name": "stdout",
     "output_type": "stream",
     "text": [
      "南京市长江大桥\n",
      "['南京', '市长', '江大桥']\n"
     ]
    }
   ],
   "source": [
    "text='南京市长江大桥'\n",
    "res=hmm_test.cut(text)\n",
    "print(text)\n",
    "print(str(list(res)))"
   ]
  },
  {
   "cell_type": "code",
   "execution_count": 11,
   "metadata": {},
   "outputs": [
    {
     "name": "stdout",
     "output_type": "stream",
     "text": [
      "下雨天留客天留我不留\n",
      "['下雨', '天留', '客天', '留', '我', '不留']\n"
     ]
    }
   ],
   "source": [
    "text='下雨天留客天留我不留'\n",
    "res=hmm_test.cut(text)\n",
    "print(text)\n",
    "print(str(list(res)))"
   ]
  },
  {
   "cell_type": "code",
   "execution_count": null,
   "metadata": {},
   "outputs": [],
   "source": []
  }
 ],
 "metadata": {
  "kernelspec": {
   "display_name": "Python 3",
   "language": "python",
   "name": "python3"
  },
  "language_info": {
   "codemirror_mode": {
    "name": "ipython",
    "version": 3
   },
   "file_extension": ".py",
   "mimetype": "text/x-python",
   "name": "python",
   "nbconvert_exporter": "python",
   "pygments_lexer": "ipython3",
   "version": "3.7.8"
  }
 },
 "nbformat": 4,
 "nbformat_minor": 4
}
