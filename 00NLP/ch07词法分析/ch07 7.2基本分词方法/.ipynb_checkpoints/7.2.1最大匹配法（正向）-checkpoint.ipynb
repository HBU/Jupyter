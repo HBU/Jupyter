{
 "cells": [
  {
   "cell_type": "code",
   "execution_count": 6,
   "metadata": {},
   "outputs": [
    {
     "name": "stdout",
     "output_type": "stream",
     "text": [
      "我们/在野/生动/物/园/玩/"
     ]
    }
   ],
   "source": [
    "sentence = '我们在野生动物园玩' # 待切分句子\n",
    "user_dict = ['我们', '在', '在野', '生动', '野生', '动物园', '野生动物园', '园','玩'] # 词典\n",
    "max_len = max([len(item) for item in user_dict])# 词典中最长词长度\n",
    "start = 0\n",
    "\n",
    "while start != len(sentence):\n",
    "    index = start + max_len\n",
    "    if index>len(sentence):\n",
    "        index = len(sentence)\n",
    "    for i in range(max_len):\n",
    "        if (sentence[start:index] in user_dict) or (len(sentence[start:index])==1):\n",
    "            print(sentence[start:index], end='/')\n",
    "            start = index\n",
    "            break\n",
    "        index += -1"
   ]
  },
  {
   "cell_type": "code",
   "execution_count": 10,
   "metadata": {
    "scrolled": true
   },
   "outputs": [
    {
     "name": "stdout",
     "output_type": "stream",
     "text": [
      "时间/就/是/生命/"
     ]
    }
   ],
   "source": [
    "sentence = '时间就是生命' # 待切分句子\n",
    "user_dict = ['时间', '就', '是',  '生命'] # 词典\n",
    "max_len = max([len(item) for item in user_dict])# 词典中最长词长度\n",
    "start = 0\n",
    "\n",
    "while start != len(sentence):\n",
    "    index = start + max_len\n",
    "    if index>len(sentence):\n",
    "        index = len(sentence)\n",
    "    for i in range(max_len):\n",
    "        if (sentence[start:index] in user_dict) or (len(sentence[start:index])==1):\n",
    "            print(sentence[start:index], end='/')\n",
    "            start = index\n",
    "            break\n",
    "        index += -1"
   ]
  },
  {
   "cell_type": "code",
   "execution_count": 9,
   "metadata": {},
   "outputs": [
    {
     "name": "stdout",
     "output_type": "stream",
     "text": [
      "使用/户/满意/"
     ]
    }
   ],
   "source": [
    "sentence = '使用户满意' # 待切分句子\n",
    "user_dict = ['使用', '用户', '满意'] # 词典\n",
    "max_len = max([len(item) for item in user_dict])# 词典中最长词长度\n",
    "start = 0\n",
    "\n",
    "while start != len(sentence):\n",
    "    index = start + max_len\n",
    "    if index>len(sentence):\n",
    "        index = len(sentence)\n",
    "    for i in range(max_len):\n",
    "        if (sentence[start:index] in user_dict) or (len(sentence[start:index])==1):\n",
    "            print(sentence[start:index], end='/')\n",
    "            start = index\n",
    "            break\n",
    "        index += -1"
   ]
  },
  {
   "cell_type": "code",
   "execution_count": 82,
   "metadata": {},
   "outputs": [
    {
     "name": "stdout",
     "output_type": "stream",
     "text": [
      "1\t时间就是生命         \tnull\t          \t时间就是           \n",
      "2\t时间就是生命         \tnull\t          \t时间就            \n",
      "3\t就是生命           \t时间/            \t时间             \n",
      "4\t就是生命           \t时间/            \t就是生命           \n",
      "5\t就是生命           \t时间/            \t就是生            \n",
      "6\t就是生命           \t时间/            \t就是             \n",
      "7\t是生命            \t时间/就/          \t就              \n",
      "8\t是生命            \t时间/就/          \t是生命            \n",
      "9\t是生命            \t时间/就/          \t是生             \n",
      "10\t生命             \t时间/就/是/        \t是              \n",
      "11\tnull\t          \t时间/就/是/生命/     \t生命             \n"
     ]
    }
   ],
   "source": [
    "user_dict = ['时间', '就', '是',  '生命'] # 词典\n",
    "s1 = '时间就是生命' # 待切分句子\n",
    "s2 = ''\n",
    "w = '' #从s1取出的字\n",
    "step = 0\n",
    "index = 4 \n",
    "\n",
    "while 1:\n",
    "    if len(s1) <= 0 :\n",
    "        break\n",
    "    step += 1    \n",
    "    \n",
    "    w = s1[0:index]\n",
    "    \n",
    "    if(w in user_dict):\n",
    "        s2 = s2 + w + '/'\n",
    "        s1 = s1[index:len(s1)]\n",
    "        index = 4\n",
    "        if index > len(s1):\n",
    "            index = len(s1)\n",
    "    else:\n",
    "        index += -1\n",
    "        \n",
    "    fmt = \"{:1}\\t{:15}\\t{:15}\\t{:15}\"\n",
    "    \n",
    "    if s1=='':\n",
    "        print(fmt.format(step,'null\\t',s2,w))\n",
    "    elif s2== '':\n",
    "        print(fmt.format(step,s1,'null\\t',w))\n",
    "    else:\n",
    "        print(fmt.format(step,s1,s2,w))\n",
    "    \n"
   ]
  },
  {
   "cell_type": "code",
   "execution_count": null,
   "metadata": {},
   "outputs": [],
   "source": []
  }
 ],
 "metadata": {
  "kernelspec": {
   "display_name": "Python 3",
   "language": "python",
   "name": "python3"
  },
  "language_info": {
   "codemirror_mode": {
    "name": "ipython",
    "version": 3
   },
   "file_extension": ".py",
   "mimetype": "text/x-python",
   "name": "python",
   "nbconvert_exporter": "python",
   "pygments_lexer": "ipython3",
   "version": "3.7.8"
  }
 },
 "nbformat": 4,
 "nbformat_minor": 4
}
